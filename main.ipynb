{
 "cells": [
  {
   "cell_type": "code",
   "execution_count": null,
   "id": "2a469b9b-7859-4182-abde-d7702a97cccc",
   "metadata": {},
   "outputs": [],
   "source": [
    "################################\n",
    "####### Creating workers #######\n",
    "################################\n",
    "using Distributed\n",
    "n_workers = 10\n",
    "nprocs()==1 || rmprocs(workers()); addprocs(n_workers, exeflags=\"--project\");"
   ]
  },
  {
   "cell_type": "code",
   "execution_count": null,
   "id": "069461f7-8208-4034-bf32-58eda190ceda",
   "metadata": {},
   "outputs": [],
   "source": [
    "################################\n",
    "#### Activating the project ####\n",
    "################################\n",
    "# @everywhere using Pkg\n",
    "# @everywhere Pkg.instantiate();\n",
    "# @everywhere Pkg.activate(\"../DistributedOptimization\");\n",
    "include(\"./src/DistributedOptimization.jl\")"
   ]
  },
  {
   "cell_type": "markdown",
   "id": "394264de-7fa4-45f7-acc1-40bae0277905",
   "metadata": {},
   "source": [
    "### Experiment setting"
   ]
  },
  {
   "cell_type": "code",
   "execution_count": null,
   "id": "64a9c7cc-516c-4a52-b44c-d5744634f0f3",
   "metadata": {},
   "outputs": [],
   "source": [
    "################################\n",
    "###### Problem parameters ######\n",
    "################################\n",
    "\n",
    "using DistributedArrays\n",
    "@everywhere using Random\n",
    "@everywhere Random.seed!(42)\n",
    "\n",
    "n = 1000\n",
    "m = 20\n",
    "λ = 0.01\n",
    "zero_columns = 1\n",
    "\n",
    "# active=0 returns 1\n",
    "# active=1 Returns vector of ones with zeros at the ith block of size nworkers()\n",
    "# active=2 Returns vector of zeros with ones at the ith block of size nworkers()\n",
    "@everywhere function zeros_at(i,active=0)\n",
    "    active==0 && return 1\n",
    "    to_zero = [(i-1)*(m÷nworkers()) + k for k in 1:m÷nworkers()]\n",
    "    active==1 && return [all(j .!= to_zero) for j in 1:m]\n",
    "    active==2 && return [any(j .== to_zero) for j in 1:m]\n",
    "end\n",
    "    \n",
    "A = [@spawnat worker rand(n÷nworkers(),m).*zeros_at(i,zero_columns)' for (i, worker) in enumerate(workers())]\n",
    "A = reshape(A, :, 1)\n",
    "A = DArray(A);\n",
    "\n",
    "x_gen = rand(m,1) .+ 10\n",
    "\n",
    "b = [@spawnat worker A.localpart*x_opt + 0.01*rand(Poisson(1),(n÷nworkers(),1)) for worker in workers()]\n",
    "b = reshape(b, :, 1)\n",
    "b = DArray(b);\n",
    "\n",
    "objective = Objective(A,b,λ); # initializes worker_objective"
   ]
  },
  {
   "cell_type": "code",
   "execution_count": null,
   "id": "a9832cd3-4a87-4a79-a5ab-359a7269536e",
   "metadata": {},
   "outputs": [],
   "source": [
    "################################\n",
    "###### Learning parameters #####\n",
    "################################\n",
    "epochs = 0\n",
    "time = 10\n",
    "slow_workers = Dict(zip(workers()[1:2], [50,100]));\n",
    "# slow_workers = Dict();\n",
    "γ_paper = 1/objective.L\n",
    "γ_piag  = 0.1/objective.L"
   ]
  },
  {
   "cell_type": "markdown",
   "id": "70c252f2-78f0-456b-906b-76b100b00621",
   "metadata": {},
   "source": [
    "### Experiment"
   ]
  },
  {
   "cell_type": "code",
   "execution_count": null,
   "id": "0ab2426a-e08c-4361-8d88-1f34f34878e4",
   "metadata": {},
   "outputs": [],
   "source": [
    "##############################################################\n",
    "################## Enforcing JIT compilation #################\n",
    "##############################################################\n",
    "async_optimize(rand(m,1), PaperSolver(objective, 1/objective.L), epochs=2);\n",
    "async_optimize(rand(m,1), PiagSolver(objective, 1/objective.L), epochs=2);\n",
    "sync_optimize(rand(m,1), PaperSolver(objective, 1/objective.L), epochs=2);"
   ]
  },
  {
   "cell_type": "code",
   "execution_count": null,
   "id": "52ddd92c-172b-40e8-996d-84bdc5277a63",
   "metadata": {},
   "outputs": [],
   "source": [
    "##############################################################\n",
    "####################### Finding x_star #######################\n",
    "##############################################################\n",
    "paper_solver = PaperSolver(objective, 1/objective.L)\n",
    "history_sync_paper = sync_optimize(rand(m,1), paper_solver; epochs=1000, verbose=100);\n",
    "x_star = history_sync_paper.logs[\"x\"][end];\n",
    "norm(x_star-x_opt)"
   ]
  },
  {
   "cell_type": "code",
   "execution_count": null,
   "id": "47242059-9b2a-4b16-9bda-866cfe39a7ab",
   "metadata": {},
   "outputs": [],
   "source": [
    "###############################################################\n",
    "######################### Experiment ##########################\n",
    "###############################################################\n",
    "\n",
    "histories = Dict{String, Vector{History}}(\"piag\"=>[], \"paper\"=>[], \"sync\"=>[])\n",
    "# histories = Dict{String, Vector{History}}(\"paper\"=>[],\"sync\"=>[])\n",
    "\n",
    "for k in 1:1\n",
    "    print(\"◀︎\"); x_init = rand(m,1)\n",
    "    \n",
    "    ############################# SYNC ############################\n",
    "    paper_solver = PaperSolver(objective, γ_paper);\n",
    "    history = sync_optimize(x_init, paper_solver; slow_workers=slow_workers, epochs=epochs, time=time, verbose=0);\n",
    "    append!(histories[\"sync\"],[history])\n",
    "    print(\"■\")\n",
    "    \n",
    "    ########################### PAPER ###########################\n",
    "    paper_solver = PaperSolver(objective, γ_paper); # initializes worker_solver\n",
    "    history = async_optimize(x_init, paper_solver; slow_workers=slow_workers, epochs=epochs, time=time, verbose=0);\n",
    "    append!(histories[\"paper\"],[history])\n",
    "    print(\"■\")\n",
    "    \n",
    "    ############################ PIAG #############################\n",
    "    piag_solver = PiagSolver(objective, γ_piag); # initializes worker_solver\n",
    "    history = async_optimize(x_init, piag_solver; slow_workers=slow_workers, epochs=epochs, time=time, verbose=0);\n",
    "    append!(histories[\"piag\"],[history])\n",
    "    print(\"■\")\n",
    "    \n",
    "    print(\"▶︎\")\n",
    "end\n",
    "println(\"◇\")"
   ]
  },
  {
   "cell_type": "markdown",
   "id": "32b5ca53-5803-4e6e-a4d9-b0fc4139f8fc",
   "metadata": {},
   "source": [
    "### Saving & Loading experiment data"
   ]
  },
  {
   "cell_type": "code",
   "execution_count": null,
   "id": "a021fe71-bf4c-4227-b796-9daaa82015c1",
   "metadata": {},
   "outputs": [],
   "source": [
    "###############################################################\n",
    "########################### Saving ############################\n",
    "###############################################################\n",
    "\n",
    "using JLD2, FileIO\n",
    "\n",
    "file_name = \"file_name\"\n",
    "\n",
    "isdir(\"./data\") || mkdir(\"./data\");\n",
    "parameters = Dict(\"n\"=>n,\"m\"=>m,\"λ\"=>λ,\"zero_columns\"=>zero_columns, \"epochs\"=>epochs, \"x_gen\"=>x_gen,\n",
    "                  \"time\"=>time, \"slow_workers\"=>slow_workers, \"γ_paper\"=>γ_paper, \"γ_piag\" =>γ_piag)\n",
    "save(\"./data/$file_name.jld2\", \"parameters\", parameters, \"histories\", histories)"
   ]
  },
  {
   "cell_type": "markdown",
   "id": "bbc54312-ce67-411f-a4bd-a849be129498",
   "metadata": {},
   "source": [
    "-- *Load from here* --"
   ]
  },
  {
   "cell_type": "code",
   "execution_count": null,
   "id": "f0e6d7e8-9ad2-40f1-8f1a-73b5839dcffa",
   "metadata": {},
   "outputs": [],
   "source": [
    "##############################################################\n",
    "######################### Loading ############################\n",
    "##############################################################\n",
    "\n",
    "# include(\"./src/DistributedOptimization.jl\")\n",
    "# using JLD2, FileIO\n",
    "\n",
    "# file_name = \"file_name\"\n",
    "# loaded_data = load(\"./data/$file_name.jld2\")\n",
    "# histories   = loaded_data[\"histories\"]\n",
    "# parameters  = loaded_data[\"parameters\"];\n",
    "\n",
    "# ######## Assigning dictionary values to variables ############\n",
    "# for (key, value) in parameters\n",
    "#     @eval ($(Symbol(key)) = $value)\n",
    "# end"
   ]
  },
  {
   "cell_type": "markdown",
   "id": "91c41321-c734-4490-81dc-d8c2b06fea9a",
   "metadata": {
    "tags": []
   },
   "source": [
    "### Plots"
   ]
  },
  {
   "cell_type": "code",
   "execution_count": null,
   "id": "6670f695-2faf-454f-b451-d858686b8255",
   "metadata": {
    "tags": []
   },
   "outputs": [],
   "source": [
    "###############################################################\n",
    "########################### Plots #############################\n",
    "###############################################################\n",
    "\n",
    "using Plots\n",
    "using PlotlyJS\n",
    "using PGFPlotsX\n",
    "using LaTeXStrings\n",
    "\n",
    "function learning_curves(;xlabel, ylabel, yscale, histories, file_name=\"\", save_as=\"\", x_star=nothing)\n",
    "\n",
    "    save_as in [\"tex\", \"pdf\", \"tikz\"] ? pgfplotsx() : gr()\n",
    "    \n",
    "    plt = Plots.plot(yscale=yscale, legend=:topright, grid=true, linewidth=4)\n",
    "    \n",
    "    h(x)  = x⋅log.(x)\n",
    "    ∇h(x) = log.(x) .+ 1\n",
    "    \n",
    "    ylabel==\"norm\"        && (D = (x,y) -> norm(x-y,2); ylabel!(L\"||x^*-x^k||_2\"))\n",
    "    ylabel==\"bregman\"     && (D = (x,y) -> h(x) - h(y) - ∇h(y)⋅(x-y); ylabel!(L\"D_h(x^*,x^k)\"))\n",
    "    ylabel==\"f\"           && ylabel!(L\"f(x^k)\")\n",
    "    ylabel==\"∇f\"          && ylabel!(L\"||∇f(x^k)||^2\")\n",
    "    \n",
    "    \n",
    "    xlabel==\"time\"        && xlabel!(\"Time (s)\")\n",
    "    xlabel==\"epochs\"      && xlabel!(\"Epochs\")\n",
    "    \n",
    "    isnothing(x_star) && (x_stars = [history.logs[\"x\"][end] for history in histories[\"sync\"]])\n",
    "    \n",
    "    for ((algorithm, algo_histories), linestyle, color) in zip(histories, [:solid,:dot,:dash,:dash], [:palegreen2,:deepskyblue1,:salmon1,:orange])\n",
    "        \n",
    "        algorithm==\"sync\"  && (label=\"Synchronous Bregman Descent\")\n",
    "        algorithm==\"paper\" && (label=\"Asynchronous Bregman Descent\")\n",
    "        algorithm==\"piag\"  && (label=\"Piag Asynchronous Bregman Descent\")\n",
    "        \n",
    "        X_tmp = []\n",
    "        Y_tmp = []\n",
    "        \n",
    "        end_epoch = min([history.epoch for history in algo_histories]...)\n",
    "        end_time  = min([history.logs[\"elapsed\"][end] for history in algo_histories]...)\n",
    "        \n",
    "        for (i, history) in enumerate(algo_histories)\n",
    "            if ylabel==\"f\"\n",
    "                !haskey(history.logs, \"f\") && log!(history, objective.f)\n",
    "                append!(Y_tmp, [history.logs[\"f\"][1:end_epoch]])\n",
    "            elseif ylabel==\"∇f\"\n",
    "                !haskey(history.logs, \"∇f\") && log!(history, objective.∇f)\n",
    "                append!(Y_tmp, [[norm(g,2) for g in history.logs[\"∇f\"]][1:end_epoch]])\n",
    "            elseif ylabel in [\"norm\", \"bregman\"]\n",
    "                isnothing(x_star) && (x_star = x_stars[i])\n",
    "                append!(Y_tmp, [[D(x_star,x) for x in history.logs[\"x\"][1:end_epoch]]])\n",
    "            end\n",
    "            \n",
    "            xlabel==\"time\" && append!(X_tmp, [history.logs[\"elapsed\"][1:end_epoch]])\n",
    "        end\n",
    "        \n",
    "        if xlabel==\"epochs\"\n",
    "            X = [1:end_epoch]\n",
    "            Y = mean(Y_tmp)\n",
    "            V = std(Y_tmp)\n",
    "        elseif xlabel==\"time\"\n",
    "            X = mean(X_tmp)\n",
    "            Y = mean(Y_tmp)[X .< end_time]\n",
    "            V = std(Y_tmp)[X .< end_time]\n",
    "            X = X[X .< end_time]\n",
    "        end\n",
    "        \n",
    "        try  \n",
    "            plot!(X, Y, ribbon=V, fillalpha=.3, label=label, linestyle=linestyle, color=color)\n",
    "        catch e\n",
    "            println(e)\n",
    "            plot!(X, Y, label=label, linestyle=linestyle, color=color)\n",
    "        end\n",
    "\n",
    "    end\n",
    "    \n",
    "    isdir(\"./plots\") || mkdir(\"./plots\");\n",
    "    save_as!=\"\" && Plots.savefig(plt, \"./plots/$file_name.$save_as\")\n",
    "    \n",
    "    gr(); plt\n",
    "end"
   ]
  },
  {
   "cell_type": "code",
   "execution_count": null,
   "id": "c9f60fb3-2c78-4f48-aa51-b3e51c011073",
   "metadata": {},
   "outputs": [],
   "source": [
    "plt = learning_curves(xlabel    = \"time\", \n",
    "                      ylabel    = \"f\", \n",
    "                      yscale    = :log, \n",
    "                      histories = histories, \n",
    "                      file_name = file_name,\n",
    "                      save_as   = \"png\",\n",
    "                      x_star = x_gen)"
   ]
  },
  {
   "cell_type": "code",
   "execution_count": null,
   "id": "011e8d0b-7842-4437-988f-ab278921eecd",
   "metadata": {},
   "outputs": [],
   "source": []
  }
 ],
 "metadata": {
  "@webio": {
   "lastCommId": "9ce4666e-c809-4f0d-ba3a-0f806eb01406",
   "lastKernelId": "0196c434-1eae-44a5-b499-8472136821da"
  },
  "kernelspec": {
   "display_name": "Julia 1.7.3",
   "language": "julia",
   "name": "julia-1.7"
  },
  "language_info": {
   "file_extension": ".jl",
   "mimetype": "application/julia",
   "name": "julia",
   "version": "1.7.3"
  }
 },
 "nbformat": 4,
 "nbformat_minor": 5
}
